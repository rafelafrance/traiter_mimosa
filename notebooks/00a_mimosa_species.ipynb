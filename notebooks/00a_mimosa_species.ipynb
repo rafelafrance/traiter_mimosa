{
 "cells": [
  {
   "cell_type": "markdown",
   "id": "f36a88e6-2635-4916-a43a-6fb550e11c95",
   "metadata": {},
   "source": [
    "# Download lists of mimosa species and create a combined list"
   ]
  },
  {
   "cell_type": "code",
   "execution_count": 1,
   "id": "b0f381af-caba-482a-b5d5-6e8208b903fc",
   "metadata": {},
   "outputs": [],
   "source": [
    "import sys\n",
    "\n",
    "sys.path.append('..')"
   ]
  },
  {
   "cell_type": "code",
   "execution_count": 2,
   "id": "7bdefd3a-b92b-4ebe-9cef-2962070717b2",
   "metadata": {},
   "outputs": [],
   "source": [
    "from pathlib import Path\n",
    "\n",
    "import pandas as pd\n",
    "from bs4 import BeautifulSoup\n",
    "\n",
    "from mimosa.pylib import consts"
   ]
  },
  {
   "cell_type": "code",
   "execution_count": 3,
   "id": "bc9899ab-359e-4b59-9bab-c479655bc4ab",
   "metadata": {},
   "outputs": [],
   "source": [
    "DATA_DIR = Path('..') / 'data'\n",
    "SPECIES_DIR = DATA_DIR / 'species'"
   ]
  },
  {
   "cell_type": "code",
   "execution_count": 4,
   "id": "5e548a95-c99b-49f8-819a-8824e2dc41e3",
   "metadata": {},
   "outputs": [],
   "source": [
    "TAXONS = set()"
   ]
  },
  {
   "cell_type": "markdown",
   "id": "65e60a46-b529-48b1-89f5-3a7ab0ab5e3d",
   "metadata": {},
   "source": [
    "## Source: Catalog of Life"
   ]
  },
  {
   "cell_type": "markdown",
   "id": "3d5d28b6-6acd-4b81-8715-d872ed8fe963",
   "metadata": {},
   "source": [
    "There seems to be no API on this site so I performed a search on \"mimosa\" set the rows per page to \"1000\" and downloaded the pages directly. We're only interested in the text so everything else can be discarded. The table layout seems to have 5 columns:\n",
    "1. blank\n",
    "2. the scientific name\n",
    "3. accepted or a synonym\n",
    "4. taxonomic level\n",
    "5. parent phylogeny: kingdom & family"
   ]
  },
  {
   "cell_type": "code",
   "execution_count": 5,
   "id": "0622047d-a1c9-464f-9ee8-e1e02862fa45",
   "metadata": {},
   "outputs": [],
   "source": [
    "PAGE1 = SPECIES_DIR / 'mimosa_1.html'\n",
    "PAGE2 = SPECIES_DIR / 'mimosa_2.html'"
   ]
  },
  {
   "cell_type": "code",
   "execution_count": 6,
   "id": "d944e42f-4173-459b-842b-936538d4ce71",
   "metadata": {},
   "outputs": [],
   "source": [
    "for path in [PAGE1, PAGE2]:\n",
    "\n",
    "    with open(path) as in_file:\n",
    "        page = in_file.read()\n",
    "\n",
    "    soup = BeautifulSoup(page, features='lxml')\n",
    "\n",
    "    for i, tr in enumerate(soup.find_all('tr')):\n",
    "        tds = tr.find_all('td')\n",
    "\n",
    "        if len(tds) != 5:\n",
    "            continue\n",
    "\n",
    "        texts = [tr.get_text() for tr in tr.find_all('td')]\n",
    "        _, taxon, accepted, level, parents = texts\n",
    "\n",
    "        if parents.find('Fabaceae') == -1:\n",
    "            continue\n",
    "\n",
    "        words = taxon.split()\n",
    "\n",
    "        if level == 'genus':\n",
    "            pass  # TAXONS.add(words[0])\n",
    "        elif level == 'species':\n",
    "            TAXONS.add(' '.join(words[:2]))\n",
    "        elif level == 'subspecies':\n",
    "            pass  # TAXONS.add(' '.join(words[:4]))\n",
    "        elif level == 'variety':\n",
    "            pass  # TAXONS.add(' '.join(words[:4]))\n",
    "        else:\n",
    "            raise(ValueError)"
   ]
  },
  {
   "cell_type": "code",
   "execution_count": 7,
   "id": "cc86a28e-78ab-410d-acd9-97ce3057895f",
   "metadata": {},
   "outputs": [
    {
     "data": {
      "text/plain": [
       "902"
      ]
     },
     "execution_count": 7,
     "metadata": {},
     "output_type": "execute_result"
    }
   ],
   "source": [
    "len(TAXONS)"
   ]
  },
  {
   "cell_type": "markdown",
   "id": "5456c606-ff2b-451a-b809-cb6e92a92c8f",
   "metadata": {},
   "source": [
    "## Source: Wikispecies"
   ]
  },
  {
   "cell_type": "code",
   "execution_count": 8,
   "id": "9999de2b-177a-4e9a-bd42-180c6a2abdb6",
   "metadata": {},
   "outputs": [],
   "source": [
    "PAGE = SPECIES_DIR / 'Mimosa_Wikispecies.html'"
   ]
  },
  {
   "cell_type": "code",
   "execution_count": 9,
   "id": "4730c521-ca36-4f91-85b9-27f9a79e050a",
   "metadata": {},
   "outputs": [
    {
     "data": {
      "text/plain": [
       "1056"
      ]
     },
     "execution_count": 9,
     "metadata": {},
     "output_type": "execute_result"
    }
   ],
   "source": [
    "with open(PAGE) as in_file:\n",
    "    page = in_file.read()\n",
    "\n",
    "soup = BeautifulSoup(page, features='lxml')\n",
    "\n",
    "names = [i.get_text() for i in soup.find_all('i') if i.get_text().startswith('M')]\n",
    "names = [n.replace('\\xa0', ' ') for n in names]\n",
    "names = [n.replace('M.', 'Mimosa') for n in names]\n",
    "names = {n for n in names if len(n.split()) == 2}\n",
    "\n",
    "TAXONS |= names\n",
    "\n",
    "len(TAXONS)"
   ]
  },
  {
   "cell_type": "markdown",
   "id": "46956aa5-2192-4827-938f-66bf40452bf8",
   "metadata": {},
   "source": [
    "## Create a vocabulary file"
   ]
  },
  {
   "cell_type": "code",
   "execution_count": 10,
   "id": "75eff53c-9627-4040-9dc3-916f26307884",
   "metadata": {},
   "outputs": [
    {
     "data": {
      "text/html": [
       "<div>\n",
       "<style scoped>\n",
       "    .dataframe tbody tr th:only-of-type {\n",
       "        vertical-align: middle;\n",
       "    }\n",
       "\n",
       "    .dataframe tbody tr th {\n",
       "        vertical-align: top;\n",
       "    }\n",
       "\n",
       "    .dataframe thead th {\n",
       "        text-align: right;\n",
       "    }\n",
       "</style>\n",
       "<table border=\"1\" class=\"dataframe\">\n",
       "  <thead>\n",
       "    <tr style=\"text-align: right;\">\n",
       "      <th></th>\n",
       "      <th>label</th>\n",
       "      <th>pattern</th>\n",
       "      <th>attr</th>\n",
       "    </tr>\n",
       "  </thead>\n",
       "  <tbody>\n",
       "    <tr>\n",
       "      <th>1052</th>\n",
       "      <td>species</td>\n",
       "      <td>zacapana</td>\n",
       "      <td></td>\n",
       "    </tr>\n",
       "    <tr>\n",
       "      <th>1053</th>\n",
       "      <td>species</td>\n",
       "      <td>zimapanensis</td>\n",
       "      <td></td>\n",
       "    </tr>\n",
       "    <tr>\n",
       "      <th>1054</th>\n",
       "      <td>species</td>\n",
       "      <td>zygia</td>\n",
       "      <td></td>\n",
       "    </tr>\n",
       "    <tr>\n",
       "      <th>1055</th>\n",
       "      <td>species</td>\n",
       "      <td>zygophylla</td>\n",
       "      <td></td>\n",
       "    </tr>\n",
       "    <tr>\n",
       "      <th>1056</th>\n",
       "      <td>genus</td>\n",
       "      <td>Mimosa</td>\n",
       "      <td></td>\n",
       "    </tr>\n",
       "  </tbody>\n",
       "</table>\n",
       "</div>"
      ],
      "text/plain": [
       "        label       pattern attr\n",
       "1052  species      zacapana     \n",
       "1053  species  zimapanensis     \n",
       "1054  species         zygia     \n",
       "1055  species    zygophylla     \n",
       "1056    genus        Mimosa     "
      ]
     },
     "execution_count": 10,
     "metadata": {},
     "output_type": "execute_result"
    }
   ],
   "source": [
    "specifics = sorted([t.split()[1] for t in TAXONS])\n",
    "\n",
    "df = pd.DataFrame(data=specifics, columns=['pattern'])\n",
    "df['label'] = 'species'\n",
    "df['attr'] = ''\n",
    "\n",
    "df = df[['label', 'pattern', 'attr']]\n",
    "\n",
    "df.loc[len(df)] = ['genus', 'Mimosa', '']\n",
    "\n",
    "df.tail()"
   ]
  },
  {
   "cell_type": "code",
   "execution_count": 12,
   "id": "1a5a5b7c-6b77-4662-a5b3-87c4c66a9218",
   "metadata": {},
   "outputs": [],
   "source": [
    "out_path = consts.VOCAB_DIR / 'taxa.csv'\n",
    "\n",
    "df.to_csv(out_path, index=False)"
   ]
  },
  {
   "cell_type": "code",
   "execution_count": null,
   "id": "12cfebe7-a795-4c74-b451-56c31efb47ba",
   "metadata": {},
   "outputs": [],
   "source": []
  }
 ],
 "metadata": {
  "kernelspec": {
   "display_name": "Python 3 (ipykernel)",
   "language": "python",
   "name": "python3"
  },
  "language_info": {
   "codemirror_mode": {
    "name": "ipython",
    "version": 3
   },
   "file_extension": ".py",
   "mimetype": "text/x-python",
   "name": "python",
   "nbconvert_exporter": "python",
   "pygments_lexer": "ipython3",
   "version": "3.9.7"
  }
 },
 "nbformat": 4,
 "nbformat_minor": 5
}
