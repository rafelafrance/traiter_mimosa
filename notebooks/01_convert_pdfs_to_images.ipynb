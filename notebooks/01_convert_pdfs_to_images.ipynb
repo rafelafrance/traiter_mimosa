{
 "cells": [
  {
   "cell_type": "markdown",
   "id": "ad274204",
   "metadata": {},
   "source": [
    "# Convert PDFs to images"
   ]
  },
  {
   "cell_type": "markdown",
   "id": "7e9bc0dc",
   "metadata": {},
   "source": [
    "Most OCR engines work on images and not PDFs."
   ]
  },
  {
   "cell_type": "code",
   "execution_count": 1,
   "id": "18916b2e",
   "metadata": {
    "ExecuteTime": {
     "end_time": "2022-03-28T18:06:14.517326Z",
     "start_time": "2022-03-28T18:06:14.509761Z"
    }
   },
   "outputs": [],
   "source": [
    "import shutil\n",
    "from pathlib import Path\n",
    "\n",
    "import regex as re"
   ]
  },
  {
   "cell_type": "code",
   "execution_count": 2,
   "id": "a408c565",
   "metadata": {
    "ExecuteTime": {
     "end_time": "2022-03-28T18:06:14.520982Z",
     "start_time": "2022-03-28T18:06:14.518813Z"
    }
   },
   "outputs": [],
   "source": [
    "DATA_DIR = Path('..') / 'data'\n",
    "IMAGE_DIR = DATA_DIR / 'images'\n",
    "PDF_DIR = DATA_DIR / 'pdf'"
   ]
  },
  {
   "cell_type": "markdown",
   "id": "3a590e49",
   "metadata": {},
   "source": [
    "## Rename PDFs to something sane"
   ]
  },
  {
   "cell_type": "markdown",
   "id": "ba52907c",
   "metadata": {},
   "source": [
    "### Get old PDF names"
   ]
  },
  {
   "cell_type": "code",
   "execution_count": 3,
   "id": "35d4a05b",
   "metadata": {
    "ExecuteTime": {
     "end_time": "2022-03-28T18:06:14.536965Z",
     "start_time": "2022-03-28T18:06:14.522125Z"
    }
   },
   "outputs": [
    {
     "data": {
      "text/plain": [
       "['Barneby_1991_Sensitivae_Censitae.pdf',\n",
       " 'Barneby_1998_Silk_Tree_Guanacaste_Monkey_s_Earring_Part_III.pdf',\n",
       " 'Barneby_and_Grimes_1996_Silk_Tree_Guanacaste_Monkey_s_Earring_Part_I.pdf',\n",
       " 'Barneby_and_Grimes_1997_Silk_Tree_Guanacaste_Monkey_s_Earring_Part_II.pdf',\n",
       " 'Ebinger_Seigler_Clarke_2000_Taxonomic_Revision_of_South_American_species_of_the_genus_Acacia_subgenus_Acacia_Fabaceae_Mimosoideae.pdf',\n",
       " 'flora_australia_11a_mimosaceae_acacia_1_2.pdf',\n",
       " 'flora_australia_11b_mimosaceae_acacia_2.pdf',\n",
       " 'flora_australia_12_mimosaceae_exacacia_caesalpiniaceae.pdf']"
      ]
     },
     "execution_count": 3,
     "metadata": {},
     "output_type": "execute_result"
    }
   ],
   "source": [
    "old_names = !ls $PDF_DIR\n",
    "old_names"
   ]
  },
  {
   "cell_type": "markdown",
   "id": "80022cb4",
   "metadata": {},
   "source": [
    "### Rename ugly file names"
   ]
  },
  {
   "cell_type": "markdown",
   "id": "a87c22c6",
   "metadata": {},
   "source": [
    "It's easier, not required but much easier, to work with sane file names. Remove characters that cause command line utilities problems. Remove spaces, commas, parentheses, etc. and replace them with an underscores `_`."
   ]
  },
  {
   "cell_type": "code",
   "execution_count": 4,
   "id": "0277c3e3",
   "metadata": {
    "ExecuteTime": {
     "end_time": "2022-03-28T18:06:14.543045Z",
     "start_time": "2022-03-28T18:06:14.538116Z"
    }
   },
   "outputs": [
    {
     "data": {
      "text/plain": [
       "[PosixPath('Barneby_1991_Sensitivae_Censitae.pdf'),\n",
       " PosixPath('Barneby_1998_Silk_Tree_Guanacaste_Monkey_s_Earring_Part_III.pdf'),\n",
       " PosixPath('Barneby_and_Grimes_1996_Silk_Tree_Guanacaste_Monkey_s_Earring_Part_I.pdf'),\n",
       " PosixPath('Barneby_and_Grimes_1997_Silk_Tree_Guanacaste_Monkey_s_Earring_Part_II.pdf'),\n",
       " PosixPath('Ebinger_Seigler_Clarke_2000_Taxonomic_Revision_of_South_American_species_of_the_genus_Acacia_subgenus_Acacia_Fabaceae_Mimosoideae.pdf'),\n",
       " PosixPath('flora_australia_11a_mimosaceae_acacia_1_2.pdf'),\n",
       " PosixPath('flora_australia_11b_mimosaceae_acacia_2.pdf'),\n",
       " PosixPath('flora_australia_12_mimosaceae_exacacia_caesalpiniaceae.pdf')]"
      ]
     },
     "execution_count": 4,
     "metadata": {},
     "output_type": "execute_result"
    }
   ],
   "source": [
    "DOCS = []\n",
    "\n",
    "for old_name in old_names:\n",
    "    path = Path(old_name)\n",
    "    stem = path.stem\n",
    "    stem = re.sub(r'[^\\w.]', '_', stem)\n",
    "    stem = re.sub(r'__+', '_', stem)\n",
    "    stem = re.sub(r'_+$', '', stem)\n",
    "\n",
    "    new_name = path.with_stem(stem)\n",
    "    DOCS.append(new_name)\n",
    "\n",
    "    if new_name != old_name:\n",
    "        old = PDF_DIR / old_name\n",
    "        new = PDF_DIR / new_name\n",
    "        shutil.move(old, new)\n",
    "\n",
    "DOCS"
   ]
  },
  {
   "cell_type": "markdown",
   "id": "a67a0f31",
   "metadata": {},
   "source": [
    "### Convert all PDF pages to an image"
   ]
  },
  {
   "cell_type": "markdown",
   "id": "6950d124",
   "metadata": {},
   "source": [
    "Poppler utils has a nice utility for converting PDF pages to images (`pdftocairo`), one image per page.\n",
    "\n",
    "`sudo apt install poppler-utils`"
   ]
  },
  {
   "cell_type": "code",
   "execution_count": 5,
   "id": "3666d120",
   "metadata": {
    "ExecuteTime": {
     "end_time": "2022-03-28T18:06:14.547581Z",
     "start_time": "2022-03-28T18:06:14.543955Z"
    }
   },
   "outputs": [],
   "source": [
    "def pdf2images(name):\n",
    "    print(name)\n",
    "\n",
    "    src = PDF_DIR / name\n",
    "\n",
    "    stem = Path(name).stem\n",
    "    dir_ = IMAGE_DIR / stem\n",
    "    dst = dir_ / stem\n",
    "\n",
    "    !mkdir -p $dir_\n",
    "    !pdftocairo -jpeg $src $dst"
   ]
  },
  {
   "cell_type": "code",
   "execution_count": 6,
   "id": "45e0ddbf",
   "metadata": {
    "ExecuteTime": {
     "end_time": "2022-03-28T18:06:14.553428Z",
     "start_time": "2022-03-28T18:06:14.548485Z"
    }
   },
   "outputs": [],
   "source": [
    "# for name in DOCS:\n",
    "#     pdf2images(name)"
   ]
  },
  {
   "cell_type": "code",
   "execution_count": 7,
   "id": "1e62b221",
   "metadata": {
    "ExecuteTime": {
     "end_time": "2022-03-28T18:06:56.476357Z",
     "start_time": "2022-03-28T18:06:48.710698Z"
    }
   },
   "outputs": [
    {
     "name": "stdout",
     "output_type": "stream",
     "text": [
      "Barneby_1998_Silk_Tree_Guanacaste_Monkey_s_Earring_Part_III.pdf\n"
     ]
    }
   ],
   "source": [
    "pdf2images(DOCS[1])"
   ]
  },
  {
   "cell_type": "markdown",
   "id": "a9b3631d",
   "metadata": {},
   "source": [
    "## Examine conversion results"
   ]
  },
  {
   "cell_type": "markdown",
   "id": "bf793ebc",
   "metadata": {},
   "source": [
    "Look at the results to see how it worked and what the format of the pages are.\n",
    "- Did the conversion work well?\n",
    "- Are we dealing with pages with one or two columns, or a mix?\n",
    "- Are there pages that can be removed? I have moved them to a `backup` folder."
   ]
  },
  {
   "cell_type": "code",
   "execution_count": null,
   "id": "5546d646",
   "metadata": {},
   "outputs": [],
   "source": []
  }
 ],
 "metadata": {
  "kernelspec": {
   "display_name": "Python 3 (ipykernel)",
   "language": "python",
   "name": "python3"
  },
  "language_info": {
   "codemirror_mode": {
    "name": "ipython",
    "version": 3
   },
   "file_extension": ".py",
   "mimetype": "text/x-python",
   "name": "python",
   "nbconvert_exporter": "python",
   "pygments_lexer": "ipython3",
   "version": "3.9.7"
  }
 },
 "nbformat": 4,
 "nbformat_minor": 5
}
