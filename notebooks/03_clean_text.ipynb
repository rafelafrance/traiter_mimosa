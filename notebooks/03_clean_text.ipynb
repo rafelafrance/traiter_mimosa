{
 "cells": [
  {
   "cell_type": "markdown",
   "id": "cf0447fe-e17f-4529-bc07-4257df414b79",
   "metadata": {},
   "source": [
    "# Clean text to improve parser results"
   ]
  },
  {
   "cell_type": "code",
   "execution_count": 1,
   "id": "aa2774fa-f7ef-4a0c-b367-92439252ebc7",
   "metadata": {
    "ExecuteTime": {
     "end_time": "2022-03-28T17:39:39.306576Z",
     "start_time": "2022-03-28T17:39:39.304081Z"
    }
   },
   "outputs": [],
   "source": [
    "import sys\n",
    "\n",
    "sys.path.append('..')"
   ]
  },
  {
   "cell_type": "code",
   "execution_count": 2,
   "id": "a9f9361c-7a03-4626-8ddc-1030d038e658",
   "metadata": {
    "ExecuteTime": {
     "end_time": "2022-03-28T17:39:39.896011Z",
     "start_time": "2022-03-28T17:39:39.307648Z"
    }
   },
   "outputs": [],
   "source": [
    "from pathlib import Path\n",
    "\n",
    "import regex as re\n",
    "import traiter.util\n",
    "from tqdm import tqdm\n",
    "\n",
    "from mimosa.pylib.pipelines import sentence_pipeline as sp"
   ]
  },
  {
   "cell_type": "code",
   "execution_count": 3,
   "id": "4803f343-f1eb-4f3f-9d42-1960f7b15885",
   "metadata": {
    "ExecuteTime": {
     "end_time": "2022-03-28T17:39:39.899990Z",
     "start_time": "2022-03-28T17:39:39.897729Z"
    }
   },
   "outputs": [],
   "source": [
    "PDF_DIR = Path('..') / 'data' / 'pdf'\n",
    "RAW_DIR = Path('..') / 'data' / 'text'\n",
    "TEXT_DIR = Path('..') / 'mimosa' / 'text'"
   ]
  },
  {
   "cell_type": "markdown",
   "id": "91914192",
   "metadata": {},
   "source": [
    "Get all PDF files"
   ]
  },
  {
   "cell_type": "code",
   "execution_count": 4,
   "id": "a7c6b7a5-e07f-420b-9ecd-c8cfbbced38e",
   "metadata": {
    "ExecuteTime": {
     "end_time": "2022-03-28T17:39:39.921449Z",
     "start_time": "2022-03-28T17:39:39.901100Z"
    }
   },
   "outputs": [],
   "source": [
    "FLAGS = re.IGNORECASE | re.VERBOSE"
   ]
  },
  {
   "cell_type": "code",
   "execution_count": 5,
   "id": "211acd40",
   "metadata": {
    "ExecuteTime": {
     "end_time": "2022-03-28T17:39:39.927860Z",
     "start_time": "2022-03-28T17:39:39.922584Z"
    }
   },
   "outputs": [],
   "source": [
    "PDFS = PDF_DIR.glob('*.pdf')"
   ]
  },
  {
   "cell_type": "markdown",
   "id": "c9d1dca4",
   "metadata": {},
   "source": [
    "Do not reprocess PDFs"
   ]
  },
  {
   "cell_type": "code",
   "execution_count": 6,
   "id": "0d4f4037",
   "metadata": {
    "ExecuteTime": {
     "end_time": "2022-03-28T17:39:39.941346Z",
     "start_time": "2022-03-28T17:39:39.929267Z"
    }
   },
   "outputs": [
    {
     "data": {
      "text/plain": [
       "{PosixPath('../data/pdf/Barneby_1991_Sensitivae_Censitae.pdf'),\n",
       " PosixPath('../data/pdf/Barneby_1998_Silk_Tree_Guanacaste_Monkey_s_Earring_Part_III.pdf'),\n",
       " PosixPath('../data/pdf/Barneby_and_Grimes_1996_Silk_Tree_Guanacaste_Monkey_s_Earring_Part_I.pdf'),\n",
       " PosixPath('../data/pdf/Barneby_and_Grimes_1997_Silk_Tree_Guanacaste_Monkey_s_Earring_Part_II.pdf'),\n",
       " PosixPath('../data/pdf/Ebinger_Seigler_Clarke_2000_Taxonomic_Revision_of_South_American_species_of_the_genus_Acacia_subgenus_Acacia_Fabaceae_Mimosoideae.pdf'),\n",
       " PosixPath('../data/pdf/flora_australia_11a_mimosaceae_acacia_1_2.pdf'),\n",
       " PosixPath('../data/pdf/flora_australia_11b_mimosaceae_acacia_2.pdf'),\n",
       " PosixPath('../data/pdf/flora_australia_12_mimosaceae_exacacia_caesalpiniaceae.pdf')}"
      ]
     },
     "execution_count": 6,
     "metadata": {},
     "output_type": "execute_result"
    }
   ],
   "source": [
    "already_text = {t.stem for t in RAW_DIR.glob('*.txt')}\n",
    "\n",
    "PDFS = {p for p in PDFS if p.stem not in already_text}\n",
    "PDFS"
   ]
  },
  {
   "cell_type": "code",
   "execution_count": 7,
   "id": "c9f9c021",
   "metadata": {
    "ExecuteTime": {
     "end_time": "2022-03-28T17:39:49.506012Z",
     "start_time": "2022-03-28T17:39:39.942353Z"
    }
   },
   "outputs": [
    {
     "name": "stdout",
     "output_type": "stream",
     "text": [
      "Syntax Warning: Illegal URI-type link\n",
      "Syntax Warning: Illegal URI-type link\n"
     ]
    }
   ],
   "source": [
    "for pdf in PDFS:\n",
    "    raw = RAW_DIR / pdf.name\n",
    "    raw = raw.with_suffix('.txt')\n",
    "\n",
    "    !pdftotext $pdf $raw"
   ]
  },
  {
   "cell_type": "code",
   "execution_count": 8,
   "id": "66672f2e",
   "metadata": {
    "ExecuteTime": {
     "end_time": "2022-03-28T17:39:49.519300Z",
     "start_time": "2022-03-28T17:39:49.511842Z"
    }
   },
   "outputs": [],
   "source": [
    "# Fix PDF specific mojibake\n",
    "MOJIBAKE = {\n",
    "    '{': '(',\n",
    "    '}': ')',\n",
    "}\n",
    "TRANS = str.maketrans(MOJIBAKE)"
   ]
  },
  {
   "cell_type": "code",
   "execution_count": 10,
   "id": "429cdd73",
   "metadata": {
    "ExecuteTime": {
     "end_time": "2022-03-28T17:41:00.341992Z",
     "start_time": "2022-03-28T17:41:00.336690Z"
    }
   },
   "outputs": [
    {
     "data": {
      "text/plain": [
       "{PosixPath('../data/text/Barneby_1998_Silk_Tree_Guanacaste_Monkey_s_Earring_Part_III.txt'),\n",
       " PosixPath('../data/text/Barneby_and_Grimes_1996_Silk_Tree_Guanacaste_Monkey_s_Earring_Part_I.txt'),\n",
       " PosixPath('../data/text/Barneby_and_Grimes_1997_Silk_Tree_Guanacaste_Monkey_s_Earring_Part_II.txt'),\n",
       " PosixPath('../data/text/Ebinger_Seigler_Clarke_2000_Taxonomic_Revision_of_South_American_species_of_the_genus_Acacia_subgenus_Acacia_Fabaceae_Mimosoideae.txt'),\n",
       " PosixPath('../data/text/flora_australia_11a_mimosaceae_acacia_1_2.txt'),\n",
       " PosixPath('../data/text/flora_australia_11b_mimosaceae_acacia_2.txt'),\n",
       " PosixPath('../data/text/flora_australia_12_mimosaceae_exacacia_caesalpiniaceae.txt')}"
      ]
     },
     "execution_count": 10,
     "metadata": {},
     "output_type": "execute_result"
    }
   ],
   "source": [
    "already_cleaned = {t.stem for t in TEXT_DIR.glob('*.txt')}\n",
    "\n",
    "RAW_TEXT = {r for r in RAW_DIR.glob('*.txt') if r.stem not in already_cleaned}\n",
    "RAW_TEXT"
   ]
  },
  {
   "cell_type": "markdown",
   "id": "6039c818-3efb-4e45-80fd-829805d8011c",
   "metadata": {},
   "source": [
    "Most of the heavy lifting for cleaning the text is done by the traiter utility function."
   ]
  },
  {
   "cell_type": "code",
   "execution_count": 11,
   "id": "147f267d",
   "metadata": {
    "ExecuteTime": {
     "end_time": "2022-03-28T17:41:04.198313Z",
     "start_time": "2022-03-28T17:41:04.195028Z"
    }
   },
   "outputs": [],
   "source": [
    "def clean_text(raw_path):\n",
    "    with open(raw_path) as raw_file:\n",
    "        text = raw_file.read()\n",
    "\n",
    "    text = traiter.util.clean_text(text, trans=TRANS)\n",
    "\n",
    "    # Break into sentences\n",
    "    nlp = sp.pipeline()\n",
    "    nlp.max_length = 4_000_000\n",
    "\n",
    "    doc = nlp(text)\n",
    "\n",
    "    lines = [s.text + '\\n' for s in doc.sents]\n",
    "\n",
    "    # Write output\n",
    "    clean_path = TEXT_DIR / raw_path.name\n",
    "    with open(clean_path, 'w') as clean_file:\n",
    "        clean_file.writelines(lines)"
   ]
  },
  {
   "cell_type": "code",
   "execution_count": 12,
   "id": "e8c91a08",
   "metadata": {
    "ExecuteTime": {
     "end_time": "2022-03-28T17:41:05.503016Z",
     "start_time": "2022-03-28T17:41:05.499669Z"
    }
   },
   "outputs": [
    {
     "name": "stdout",
     "output_type": "stream",
     "text": [
      "Barneby_1998_Silk_Tree_Guanacaste_Monkey_s_Earring_Part_III\n",
      "Barneby_and_Grimes_1996_Silk_Tree_Guanacaste_Monkey_s_Earring_Part_I\n",
      "Barneby_and_Grimes_1997_Silk_Tree_Guanacaste_Monkey_s_Earring_Part_II\n",
      "Ebinger_Seigler_Clarke_2000_Taxonomic_Revision_of_South_American_species_of_the_genus_Acacia_subgenus_Acacia_Fabaceae_Mimosoideae\n",
      "flora_australia_11a_mimosaceae_acacia_1_2\n",
      "flora_australia_11b_mimosaceae_acacia_2\n",
      "flora_australia_12_mimosaceae_exacacia_caesalpiniaceae\n"
     ]
    }
   ],
   "source": [
    "for raw_path in sorted(RAW_TEXT):\n",
    "    print(raw_path.stem)\n",
    "#     clean_text(raw_path)"
   ]
  },
  {
   "cell_type": "code",
   "execution_count": null,
   "id": "1a076b35-241e-4799-9b08-82fe34ba89b4",
   "metadata": {},
   "outputs": [],
   "source": []
  }
 ],
 "metadata": {
  "kernelspec": {
   "display_name": "Python 3 (ipykernel)",
   "language": "python",
   "name": "python3"
  },
  "language_info": {
   "codemirror_mode": {
    "name": "ipython",
    "version": 3
   },
   "file_extension": ".py",
   "mimetype": "text/x-python",
   "name": "python",
   "nbconvert_exporter": "python",
   "pygments_lexer": "ipython3",
   "version": "3.9.7"
  }
 },
 "nbformat": 4,
 "nbformat_minor": 5
}
