{
 "cells": [
  {
   "cell_type": "markdown",
   "id": "cf0447fe-e17f-4529-bc07-4257df414b79",
   "metadata": {},
   "source": [
    "# Clean text to improve parser results"
   ]
  },
  {
   "cell_type": "code",
   "execution_count": 1,
   "id": "aa2774fa-f7ef-4a0c-b367-92439252ebc7",
   "metadata": {},
   "outputs": [],
   "source": [
    "import sys\n",
    "\n",
    "sys.path.append('..')"
   ]
  },
  {
   "cell_type": "code",
   "execution_count": 2,
   "id": "a9f9361c-7a03-4626-8ddc-1030d038e658",
   "metadata": {},
   "outputs": [],
   "source": [
    "from pathlib import Path\n",
    "\n",
    "import regex as re\n",
    "from tqdm import tqdm\n",
    "from traiter import util\n",
    "\n",
    "from mimosa.pylib.pipelines import sentence_pipeline as sp"
   ]
  },
  {
   "cell_type": "code",
   "execution_count": 3,
   "id": "4803f343-f1eb-4f3f-9d42-1960f7b15885",
   "metadata": {},
   "outputs": [],
   "source": [
    "DATA_DIR = Path('..') / 'data'\n",
    "TEXT_DIR = DATA_DIR / 'text'\n",
    "\n",
    "RAW_DIR = TEXT_DIR / 'manual'\n",
    "CLEANED_DIR = TEXT_DIR / 'cleaned'"
   ]
  },
  {
   "cell_type": "code",
   "execution_count": 4,
   "id": "a7c6b7a5-e07f-420b-9ecd-c8cfbbced38e",
   "metadata": {},
   "outputs": [],
   "source": [
    "FLAGS = re.IGNORECASE | re.VERBOSE"
   ]
  },
  {
   "cell_type": "code",
   "execution_count": 5,
   "id": "ca9d12eb-2f48-4386-bbca-b4b3fee52f32",
   "metadata": {},
   "outputs": [
    {
     "data": {
      "text/plain": [
       "[PosixPath('../data/text/manual/Barneby_1991_Sensitivae_Censitae.txt')]"
      ]
     },
     "execution_count": 5,
     "metadata": {},
     "output_type": "execute_result"
    }
   ],
   "source": [
    "RAW_FILES = sorted(RAW_DIR.glob('*.txt'))\n",
    "RAW_FILES"
   ]
  },
  {
   "cell_type": "markdown",
   "id": "6039c818-3efb-4e45-80fd-829805d8011c",
   "metadata": {},
   "source": [
    "Most of the heavy lifting for cleaning the text is done by the traiter utility function."
   ]
  },
  {
   "cell_type": "code",
   "execution_count": 6,
   "id": "b0a6092e-afe4-41ab-a7e3-1cfd420c2584",
   "metadata": {},
   "outputs": [
    {
     "name": "stdout",
     "output_type": "stream",
     "text": [
      "Barneby_1991_Sensitivae_Censitae\n",
      "parsting started\n",
      "parsting finished\n",
      "\n"
     ]
    }
   ],
   "source": [
    "# Fix PDF specific mojibake\n",
    "MOJIBAKE = {\n",
    "    '{': '(',\n",
    "    '}': ')',\n",
    "}\n",
    "TRANS = str.maketrans(MOJIBAKE)\n",
    "\n",
    "\n",
    "for raw_path in RAW_FILES:\n",
    "    print(raw_path.stem)\n",
    "\n",
    "    with open(raw_path) as raw_file:\n",
    "        text = raw_file.read()\n",
    "\n",
    "    text = util.clean_text(text)\n",
    "\n",
    "    text = re.sub(r'\\n(\\S)', r' \\1', text, flags=FLAGS)\n",
    "    text = re.sub(r'^\\s+|\\s+$', '', text, flags=re.MULTILINE)\n",
    "    text = re.sub(r'([^.?\"])\\n+([^.?\"])', r'\\1 \\2', text, flags=FLAGS)\n",
    "    text = text.translate(TRANS)\n",
    "\n",
    "    nlp = sp.pipeline()\n",
    "    nlp.max_length = 4_000_000\n",
    "\n",
    "    print(\"parsting started\")\n",
    "    doc = nlp(text)\n",
    "    print(\"parsting finished\\n\")\n",
    "\n",
    "    lines = [s.text + '\\n' for s in doc.sents]\n",
    "\n",
    "    clean_path = CLEANED_DIR / raw_path.name\n",
    "    with open(clean_path, 'w') as clean_file:\n",
    "        clean_file.writelines(lines)"
   ]
  },
  {
   "cell_type": "code",
   "execution_count": null,
   "id": "1a076b35-241e-4799-9b08-82fe34ba89b4",
   "metadata": {},
   "outputs": [],
   "source": []
  }
 ],
 "metadata": {
  "kernelspec": {
   "display_name": "Python 3 (ipykernel)",
   "language": "python",
   "name": "python3"
  },
  "language_info": {
   "codemirror_mode": {
    "name": "ipython",
    "version": 3
   },
   "file_extension": ".py",
   "mimetype": "text/x-python",
   "name": "python",
   "nbconvert_exporter": "python",
   "pygments_lexer": "ipython3",
   "version": "3.9.7"
  }
 },
 "nbformat": 4,
 "nbformat_minor": 5
}
