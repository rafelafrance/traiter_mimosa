{
 "cells": [
  {
   "cell_type": "markdown",
   "id": "bedb32e2",
   "metadata": {},
   "source": [
    "# Convert book pages to text"
   ]
  },
  {
   "cell_type": "code",
   "execution_count": 1,
   "id": "0deafb46",
   "metadata": {},
   "outputs": [],
   "source": [
    "from itertools import cycle\n",
    "from pathlib import Path\n",
    "\n",
    "import matplotlib.patches as patches\n",
    "import matplotlib.pyplot as plt\n",
    "import pytesseract\n",
    "import regex as re\n",
    "import skimage\n",
    "from ipywidgets import interact\n",
    "from PIL import Image\n",
    "from tqdm import tqdm\n",
    "from skimage import (\n",
    "    color,\n",
    "    filters,\n",
    "    io,\n",
    "    measure,\n",
    "    util,\n",
    ")"
   ]
  },
  {
   "cell_type": "code",
   "execution_count": 2,
   "id": "1412a9e7",
   "metadata": {},
   "outputs": [],
   "source": [
    "DATA_DIR = Path('..') / 'data'\n",
    "IMAGE_DIR = DATA_DIR / 'images'\n",
    "TEXT_DIR = DATA_DIR / 'text'"
   ]
  },
  {
   "cell_type": "markdown",
   "id": "e54afe60",
   "metadata": {},
   "source": [
    "This constant is used for determining which column a fragment of text belongs to. Columns in real documents are not always aligned around the actual center so we adjust it to handle those cases. The algorithm is:\n",
    "- find the center of the page\n",
    "- subtract the constant\n",
    "- anything to the left of this line is in column 1 and everything else is in column 1"
   ]
  },
  {
   "cell_type": "code",
   "execution_count": 3,
   "id": "8b5bd0e9-e030-45b0-9fd4-0815e1caac7f",
   "metadata": {},
   "outputs": [],
   "source": [
    "CENTER_LINE_PAD = 50"
   ]
  },
  {
   "cell_type": "markdown",
   "id": "8021188b",
   "metadata": {},
   "source": [
    "## Get the images directories"
   ]
  },
  {
   "cell_type": "code",
   "execution_count": 4,
   "id": "46b1a2b7",
   "metadata": {},
   "outputs": [
    {
     "data": {
      "text/plain": [
       "[PosixPath('../data/images/Barneby_1991_Sensitivae_Censitae'),\n",
       " PosixPath('../data/images/Barneby_1998_Silk_Tree_Guanacaste_Monkey_s_Earring_Part_III'),\n",
       " PosixPath('../data/images/Barneby_and_Grimes_1996_Silk_Tree_Guanacaste_Monkey_s_Earring_Part_I'),\n",
       " PosixPath('../data/images/Barneby_and_Grimes_1997_Silk_Tree_Guanacaste_Monkey_s_Earring_Part_II'),\n",
       " PosixPath('../data/images/Ebinger_Seigler_Clarke_2000_Taxonomic_Revision_of_South_American_species_of_the_genus_Acacia_subgenus_Acacia_Fabaceae_Mimosoideae'),\n",
       " PosixPath('../data/images/flora_australia_11a_mimosaceae_acacia_1_2'),\n",
       " PosixPath('../data/images/flora_australia_11b_mimosaceae_acacia_2'),\n",
       " PosixPath('../data/images/flora_australia_12_mimosaceae_exacacia_caesalpiniaceae')]"
      ]
     },
     "execution_count": 4,
     "metadata": {},
     "output_type": "execute_result"
    }
   ],
   "source": [
    "DOCS = sorted(IMAGE_DIR.glob('*'))\n",
    "DOCS"
   ]
  },
  {
   "cell_type": "markdown",
   "id": "5c436a76",
   "metadata": {},
   "source": [
    "We also need to determine which books use a one column layout vs a two column layout."
   ]
  },
  {
   "cell_type": "code",
   "execution_count": 5,
   "id": "9b0a7de6",
   "metadata": {},
   "outputs": [
    {
     "data": {
      "text/plain": [
       "[PosixPath('../data/images/flora_australia_11a_mimosaceae_acacia_1_2'),\n",
       " PosixPath('../data/images/flora_australia_11b_mimosaceae_acacia_2'),\n",
       " PosixPath('../data/images/flora_australia_12_mimosaceae_exacacia_caesalpiniaceae')]"
      ]
     },
     "execution_count": 5,
     "metadata": {},
     "output_type": "execute_result"
    }
   ],
   "source": [
    "ONE_COLUMN = [d for d in DOCS if str(d).find('flora_australia') > -1]\n",
    "ONE_COLUMN"
   ]
  },
  {
   "cell_type": "markdown",
   "id": "3cec806b-f0fa-430f-ba9f-5c5b64f83df4",
   "metadata": {},
   "source": [
    "## Segment pages into columns and other parts"
   ]
  },
  {
   "cell_type": "markdown",
   "id": "cc8761b5-d35d-46cd-aa3b-8d6ed123470b",
   "metadata": {},
   "source": [
    "Many pages have multiple columns which will confuse the OCR engines."
   ]
  },
  {
   "cell_type": "markdown",
   "id": "520b6855",
   "metadata": {},
   "source": [
    "Having a clear border around the text is important for the OCR engines to work."
   ]
  },
  {
   "cell_type": "code",
   "execution_count": 6,
   "id": "4705fb60",
   "metadata": {},
   "outputs": [],
   "source": [
    "BORDER = 6\n",
    "\n",
    "\n",
    "def get_bbox(region):\n",
    "    top, left, bottom, right = region.bbox\n",
    "    top -= BORDER\n",
    "    left -= BORDER\n",
    "    bottom += BORDER\n",
    "    right += BORDER\n",
    "    return top, left, bottom, right"
   ]
  },
  {
   "cell_type": "markdown",
   "id": "cc680985",
   "metadata": {},
   "source": [
    "We don't want smaller bounding boxes that overlap with bigger bounding boxes."
   ]
  },
  {
   "cell_type": "code",
   "execution_count": 7,
   "id": "bb337176-6c0e-4bde-a0f3-e2a080ad4339",
   "metadata": {},
   "outputs": [],
   "source": [
    "def inside(smaller_region, bigger_region):\n",
    "    s_top, s_left, s_bottom, s_right = smaller_region.bbox\n",
    "    b_top, b_left, b_bottom, b_right = bigger_region.bbox\n",
    "\n",
    "    top_left = (\n",
    "        s_top > b_top and s_left > b_left and s_top < b_bottom and s_left < b_right)\n",
    "\n",
    "    bottom_right = (\n",
    "        s_bottom > b_top and s_right > b_left and s_bottom < b_bottom\n",
    "        and s_right < b_right)\n",
    "\n",
    "    top_right = (\n",
    "        s_top > b_top and s_right > b_left and s_top < b_bottom and s_right < b_right)\n",
    "\n",
    "    bottom_left = (\n",
    "        s_bottom > b_top and s_left > b_left and s_bottom < b_bottom\n",
    "        and s_left < b_right)\n",
    "\n",
    "    return top_left or bottom_right or top_right or bottom_left"
   ]
  },
  {
   "cell_type": "markdown",
   "id": "51383b1d",
   "metadata": {},
   "source": [
    "Get rid of headers and footers and other small stray marks."
   ]
  },
  {
   "cell_type": "code",
   "execution_count": 8,
   "id": "fdfd4e72-3ebe-4154-a0e2-b28b1ba0bc0d",
   "metadata": {},
   "outputs": [],
   "source": [
    "def too_small(region, min_height=50, min_width=100):\n",
    "    top, left, bottom, right = get_bbox(region)\n",
    "    width = right - left\n",
    "    height = bottom - top\n",
    "    return width < min_width or height < min_height"
   ]
  },
  {
   "cell_type": "markdown",
   "id": "74440b41",
   "metadata": {},
   "source": [
    "Another method to get rid of headers, footers, and figure captions is to remove text that spans both of the columns, provided that the document is laid out in with two columns of text per page."
   ]
  },
  {
   "cell_type": "code",
   "execution_count": 9,
   "id": "a366073b-b30f-4763-91c2-2777c9083c3d",
   "metadata": {},
   "outputs": [],
   "source": [
    "def too_wide(region, image_width, pad=CENTER_LINE_PAD):\n",
    "    top, left, bottom, right = get_bbox(region)\n",
    "    width = right - left\n",
    "    return width > (image_width // 2) + pad"
   ]
  },
  {
   "cell_type": "markdown",
   "id": "ba2081d7",
   "metadata": {},
   "source": [
    "Chop the processed page into regions of text."
   ]
  },
  {
   "cell_type": "code",
   "execution_count": 10,
   "id": "1265d3e7",
   "metadata": {},
   "outputs": [],
   "source": [
    "def get_regions(labeled, is_two_columns):\n",
    "    regions = sorted(measure.regionprops(labeled), key=lambda r: r.area, reverse=True)\n",
    "    regions = [r for r in regions if not too_small(r)]\n",
    "\n",
    "    new_regions = []\n",
    "    for region in regions:\n",
    "        for bigger in new_regions:\n",
    "            if inside(region, bigger):\n",
    "                break\n",
    "        else:\n",
    "            new_regions.append(region)\n",
    "    new_regions = regions\n",
    "\n",
    "    regions = new_regions\n",
    "\n",
    "    if is_two_columns:\n",
    "        regions = [r for r in regions if not too_wide(r, labeled.shape[1])]\n",
    "\n",
    "    return regions"
   ]
  },
  {
   "cell_type": "markdown",
   "id": "479371a6",
   "metadata": {},
   "source": [
    "Sometimes you want to see how the processing pipeline is dealing with the images."
   ]
  },
  {
   "cell_type": "code",
   "execution_count": 11,
   "id": "c7de8c91",
   "metadata": {},
   "outputs": [],
   "source": [
    "def show_image(image):\n",
    "    fig, ax = plt.subplots(nrows=1, ncols=1, figsize=(10, 10), sharex=True, sharey=True)\n",
    "    ax.imshow(image, cmap='gray')\n",
    "    ax.axis('off')\n",
    "\n",
    "    fig.tight_layout()\n",
    "\n",
    "    plt.show()"
   ]
  },
  {
   "cell_type": "markdown",
   "id": "969fa5ad",
   "metadata": {},
   "source": [
    "It is useful to see the regions for debugging."
   ]
  },
  {
   "cell_type": "code",
   "execution_count": 12,
   "id": "7d4176ba-1cfd-4d35-9e75-9fa953eeff49",
   "metadata": {},
   "outputs": [],
   "source": [
    "COLORS = \"\"\" red blue green cyan magenta yellow brown purple \"\"\".split()\n",
    "\n",
    "\n",
    "def show_regions(image, regions):\n",
    "    fig, ax = plt.subplots(nrows=1, ncols=1, figsize=(24, 20), sharex=True, sharey=True)\n",
    "    ax.imshow(image)\n",
    "    ax.axis('off')\n",
    "\n",
    "    image_height, image_width = image.shape[0], image.shape[1]\n",
    "    rect = patches.Rectangle(\n",
    "        (image_width // 2, 0),\n",
    "        1,\n",
    "        image_height,\n",
    "        fill=False,\n",
    "        edgecolor=\"gray\",\n",
    "        linewidth=2,\n",
    "    )\n",
    "    ax.add_patch(rect)\n",
    "\n",
    "    color_ = cycle(COLORS)\n",
    "\n",
    "    for region in regions:\n",
    "        top, left, bottom, right = get_bbox(region)\n",
    "        width = right - left\n",
    "        height = bottom - top\n",
    "        rect = patches.Rectangle(\n",
    "            (left, top),\n",
    "            width,\n",
    "            height,\n",
    "            fill=False,\n",
    "            edgecolor=next(color_),\n",
    "            linewidth=2,\n",
    "        )\n",
    "        ax.add_patch(rect)\n",
    "\n",
    "    fig.tight_layout()\n",
    "\n",
    "    plt.show()\n",
    "\n",
    "    return regions"
   ]
  },
  {
   "cell_type": "markdown",
   "id": "00bc1315",
   "metadata": {},
   "source": [
    "Sort regions of the page so that the text on the page will flow."
   ]
  },
  {
   "cell_type": "code",
   "execution_count": 13,
   "id": "e24bdb5f",
   "metadata": {},
   "outputs": [],
   "source": [
    "def region_key(region, threshold):\n",
    "    top, left, bottom, right = get_bbox(region)\n",
    "    return left // threshold, top, left\n",
    "\n",
    "\n",
    "def sort_regions(image, regions, pad=CENTER_LINE_PAD):\n",
    "    threshold = (image.shape[1] // 2) - pad\n",
    "    return sorted(regions, key=lambda r: region_key(r, threshold))"
   ]
  },
  {
   "cell_type": "markdown",
   "id": "fa3bad74",
   "metadata": {},
   "source": [
    "OCR each region of text."
   ]
  },
  {
   "cell_type": "code",
   "execution_count": 14,
   "id": "3e621258",
   "metadata": {},
   "outputs": [],
   "source": [
    "def regions_to_text(regions, gray):\n",
    "    texts = []\n",
    "\n",
    "    for region in regions:\n",
    "        top, left, bottom, right = get_bbox(region)\n",
    "        width = right - left\n",
    "        height = bottom - top\n",
    "        cropped = gray[top:bottom, left:right] * 255.0\n",
    "        cropped = Image.fromarray(cropped).convert('RGB')\n",
    "        text = pytesseract.image_to_string(cropped)\n",
    "        if len(text.split()) > MIN_WORDS:\n",
    "            # show_image(cropped)\n",
    "            texts.append(text)\n",
    "\n",
    "    return texts"
   ]
  },
  {
   "cell_type": "markdown",
   "id": "208fdf7f",
   "metadata": {},
   "source": [
    "This is the primary processing pipeline for converting an image of a page into text."
   ]
  },
  {
   "cell_type": "code",
   "execution_count": 15,
   "id": "2b17c624",
   "metadata": {
    "scrolled": false
   },
   "outputs": [],
   "source": [
    "WINDOW_SIZE = 11\n",
    "MIN_WORDS = 8\n",
    "SIGMA = 11\n",
    "K = 0.032\n",
    "\n",
    "\n",
    "def pipeline(image, is_two_columns):\n",
    "    image = skimage.img_as_float(image)\n",
    "    gray = color.rgb2gray(image)\n",
    "\n",
    "    blurred = filters.gaussian(gray, sigma=SIGMA)\n",
    "\n",
    "    threshold = filters.threshold_sauvola(blurred, window_size=WINDOW_SIZE, k=K)\n",
    "    threshold = filters.threshold_otsu(blurred)\n",
    "    binary = blurred > threshold\n",
    "\n",
    "    inverted = util.invert(binary)\n",
    "    labeled = measure.label(inverted)\n",
    "\n",
    "    regions = get_regions(labeled, is_two_columns)\n",
    "    regions = sort_regions(image, regions)\n",
    "\n",
    "    texts = regions_to_text(regions, gray)\n",
    "\n",
    "    # show_regions(image, regions)\n",
    "\n",
    "    return texts"
   ]
  },
  {
   "cell_type": "code",
   "execution_count": 16,
   "id": "d3da6fec",
   "metadata": {},
   "outputs": [],
   "source": [
    "def parse_doc(doc):\n",
    "    print(doc.stem)\n",
    "    dir_ = IMAGE_DIR / doc.stem\n",
    "\n",
    "    is_two_columns = not doc in ONE_COLUMN\n",
    "\n",
    "    pages = sorted(dir_.glob('*.jpg'))\n",
    "\n",
    "    with open(TEXT_DIR / f'{doc.stem}.txt', 'w') as text_file:\n",
    "        for page in tqdm(range(len(pages))):\n",
    "            image = io.imread(pages[page])\n",
    "\n",
    "            texts = pipeline(image, is_two_columns)\n",
    "            text_file.writelines(texts)"
   ]
  },
  {
   "cell_type": "code",
   "execution_count": 17,
   "id": "0c7771d2",
   "metadata": {},
   "outputs": [
    {
     "name": "stdout",
     "output_type": "stream",
     "text": [
      "Barneby_1991_Sensitivae_Censitae\n"
     ]
    },
    {
     "name": "stderr",
     "output_type": "stream",
     "text": [
      "100%|███████████████████████████████████████████████████████████████████████████████████████████████████████████████████████████████████████| 775/775 [50:02<00:00,  3.87s/it]\n"
     ]
    },
    {
     "name": "stdout",
     "output_type": "stream",
     "text": [
      "Barneby_1998_Silk_Tree_Guanacaste_Monkey_s_Earring_Part_III\n"
     ]
    },
    {
     "name": "stderr",
     "output_type": "stream",
     "text": [
      "100%|███████████████████████████████████████████████████████████████████████████████████████████████████████████████████████████████████████| 202/202 [11:35<00:00,  3.44s/it]\n"
     ]
    },
    {
     "name": "stdout",
     "output_type": "stream",
     "text": [
      "Barneby_and_Grimes_1996_Silk_Tree_Guanacaste_Monkey_s_Earring_Part_I\n"
     ]
    },
    {
     "name": "stderr",
     "output_type": "stream",
     "text": [
      "100%|███████████████████████████████████████████████████████████████████████████████████████████████████████████████████████████████████████| 252/252 [14:56<00:00,  3.56s/it]\n"
     ]
    },
    {
     "name": "stdout",
     "output_type": "stream",
     "text": [
      "Barneby_and_Grimes_1997_Silk_Tree_Guanacaste_Monkey_s_Earring_Part_II\n"
     ]
    },
    {
     "name": "stderr",
     "output_type": "stream",
     "text": [
      "100%|███████████████████████████████████████████████████████████████████████████████████████████████████████████████████████████████████████| 135/135 [08:19<00:00,  3.70s/it]\n"
     ]
    },
    {
     "name": "stdout",
     "output_type": "stream",
     "text": [
      "Ebinger_Seigler_Clarke_2000_Taxonomic_Revision_of_South_American_species_of_the_genus_Acacia_subgenus_Acacia_Fabaceae_Mimosoideae\n"
     ]
    },
    {
     "name": "stderr",
     "output_type": "stream",
     "text": [
      "100%|█████████████████████████████████████████████████████████████████████████████████████████████████████████████████████████████████████████| 22/22 [01:12<00:00,  3.30s/it]\n"
     ]
    },
    {
     "name": "stdout",
     "output_type": "stream",
     "text": [
      "flora_australia_11a_mimosaceae_acacia_1_2\n"
     ]
    },
    {
     "name": "stderr",
     "output_type": "stream",
     "text": [
      "100%|███████████████████████████████████████████████████████████████████████████████████████████████████████████████████████████████████████| 502/502 [23:29<00:00,  2.81s/it]\n"
     ]
    },
    {
     "name": "stdout",
     "output_type": "stream",
     "text": [
      "flora_australia_11b_mimosaceae_acacia_2\n"
     ]
    },
    {
     "name": "stderr",
     "output_type": "stream",
     "text": [
      "100%|███████████████████████████████████████████████████████████████████████████████████████████████████████████████████████████████████████| 351/351 [18:47<00:00,  3.21s/it]\n"
     ]
    },
    {
     "name": "stdout",
     "output_type": "stream",
     "text": [
      "flora_australia_12_mimosaceae_exacacia_caesalpiniaceae\n"
     ]
    },
    {
     "name": "stderr",
     "output_type": "stream",
     "text": [
      "100%|███████████████████████████████████████████████████████████████████████████████████████████████████████████████████████████████████████| 143/143 [07:37<00:00,  3.20s/it]\n"
     ]
    }
   ],
   "source": [
    "for doc in DOCS:\n",
    "    parse_doc(doc)"
   ]
  },
  {
   "cell_type": "code",
   "execution_count": null,
   "id": "25540922",
   "metadata": {},
   "outputs": [],
   "source": []
  }
 ],
 "metadata": {
  "kernelspec": {
   "display_name": "Python 3 (ipykernel)",
   "language": "python",
   "name": "python3"
  },
  "language_info": {
   "codemirror_mode": {
    "name": "ipython",
    "version": 3
   },
   "file_extension": ".py",
   "mimetype": "text/x-python",
   "name": "python",
   "nbconvert_exporter": "python",
   "pygments_lexer": "ipython3",
   "version": "3.9.7"
  }
 },
 "nbformat": 4,
 "nbformat_minor": 5
}
