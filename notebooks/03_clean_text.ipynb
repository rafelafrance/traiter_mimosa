{
 "cells": [
  {
   "cell_type": "markdown",
   "id": "cf0447fe-e17f-4529-bc07-4257df414b79",
   "metadata": {},
   "source": [
    "# Clean text to improve parser results"
   ]
  },
  {
   "cell_type": "code",
   "execution_count": 1,
   "id": "aa2774fa-f7ef-4a0c-b367-92439252ebc7",
   "metadata": {},
   "outputs": [],
   "source": [
    "import sys\n",
    "\n",
    "sys.path.append('..')"
   ]
  },
  {
   "cell_type": "code",
   "execution_count": 2,
   "id": "a9f9361c-7a03-4626-8ddc-1030d038e658",
   "metadata": {},
   "outputs": [],
   "source": [
    "from pathlib import Path\n",
    "\n",
    "import regex as re\n",
    "from traiter import util"
   ]
  },
  {
   "cell_type": "code",
   "execution_count": 3,
   "id": "4803f343-f1eb-4f3f-9d42-1960f7b15885",
   "metadata": {},
   "outputs": [],
   "source": [
    "DATA_DIR = Path('..') / 'data'\n",
    "TEXT_DIR = DATA_DIR / 'text'\n",
    "\n",
    "RAW_DIR = TEXT_DIR / 'raw'\n",
    "CLEANED_DIR = TEXT_DIR / 'cleaned'"
   ]
  },
  {
   "cell_type": "code",
   "execution_count": 4,
   "id": "a7c6b7a5-e07f-420b-9ecd-c8cfbbced38e",
   "metadata": {},
   "outputs": [],
   "source": [
    "FLAGS = re.IGNORECASE | re.VERBOSE"
   ]
  },
  {
   "cell_type": "code",
   "execution_count": 5,
   "id": "ca9d12eb-2f48-4386-bbca-b4b3fee52f32",
   "metadata": {},
   "outputs": [
    {
     "data": {
      "text/plain": [
       "[PosixPath('../data/text/raw/Barneby_1991_Sensitivae_Censitae.txt'),\n",
       " PosixPath('../data/text/raw/Barneby_1998_Silk_Tree_Guanacaste_Monkey_s_Earring_Part_III.txt'),\n",
       " PosixPath('../data/text/raw/Barneby_and_Grimes_1996_Silk_Tree_Guanacaste_Monkey_s_Earring_Part_I.txt'),\n",
       " PosixPath('../data/text/raw/Barneby_and_Grimes_1997_Silk_Tree_Guanacaste_Monkey_s_Earring_Part_II.txt'),\n",
       " PosixPath('../data/text/raw/Ebinger_Seigler_Clarke_2000_Taxonomic_Revision_of_South_American_species_of_the_genus_Acacia_subgenus_Acacia_Fabaceae_Mimosoideae.txt'),\n",
       " PosixPath('../data/text/raw/flora_australia_11a_mimosaceae_acacia_1_2.txt'),\n",
       " PosixPath('../data/text/raw/flora_australia_11b_mimosaceae_acacia_2.txt'),\n",
       " PosixPath('../data/text/raw/flora_australia_12_mimosaceae_exacacia_caesalpiniaceae.txt')]"
      ]
     },
     "execution_count": 5,
     "metadata": {},
     "output_type": "execute_result"
    }
   ],
   "source": [
    "RAW_FILES = sorted(RAW_DIR.glob('*.txt'))\n",
    "RAW_FILES"
   ]
  },
  {
   "cell_type": "markdown",
   "id": "6039c818-3efb-4e45-80fd-829805d8011c",
   "metadata": {},
   "source": [
    "Most of the heavy lifting for cleaning the text is done by the traiter utility function."
   ]
  },
  {
   "cell_type": "code",
   "execution_count": 14,
   "id": "b0a6092e-afe4-41ab-a7e3-1cfd420c2584",
   "metadata": {},
   "outputs": [
    {
     "name": "stdout",
     "output_type": "stream",
     "text": [
      "Barneby_1991_Sensitivae_Censitae\n",
      "Barneby_1998_Silk_Tree_Guanacaste_Monkey_s_Earring_Part_III\n",
      "Barneby_and_Grimes_1996_Silk_Tree_Guanacaste_Monkey_s_Earring_Part_I\n",
      "Barneby_and_Grimes_1997_Silk_Tree_Guanacaste_Monkey_s_Earring_Part_II\n",
      "Ebinger_Seigler_Clarke_2000_Taxonomic_Revision_of_South_American_species_of_the_genus_Acacia_subgenus_Acacia_Fabaceae_Mimosoideae\n",
      "flora_australia_11a_mimosaceae_acacia_1_2\n",
      "flora_australia_11b_mimosaceae_acacia_2\n",
      "flora_australia_12_mimosaceae_exacacia_caesalpiniaceae\n"
     ]
    }
   ],
   "source": [
    "# Fix application specific mojibake\n",
    "MOJIBAKE = {\n",
    "    '{': '(',\n",
    "    '}': ')',\n",
    "}\n",
    "TRANS = str.maketrans(MOJIBAKE)\n",
    "\n",
    "\n",
    "for raw_path in RAW_FILES:\n",
    "    print(raw_path.stem)\n",
    "\n",
    "    with open(raw_path) as raw_file:\n",
    "        text = raw_file.read()\n",
    "\n",
    "    text = util.clean_text(text)\n",
    "\n",
    "    text = re.sub(r'\\n(\\S)', r' \\1', text, flags=FLAGS)\n",
    "    text = re.sub(r'^\\s+|\\s+$', '', text, flags=re.MULTILINE)\n",
    "    text = re.sub(r'([^.?\"])\\n+([^.?\"])', r'\\1 \\2', text, flags=FLAGS)\n",
    "    text = text.translate(TRANS)\n",
    "\n",
    "    clean_path = CLEANED_DIR / raw_path.name\n",
    "\n",
    "    with open(clean_path, 'w') as clean_file:\n",
    "        clean_file.write(text)"
   ]
  },
  {
   "cell_type": "code",
   "execution_count": null,
   "id": "1a076b35-241e-4799-9b08-82fe34ba89b4",
   "metadata": {},
   "outputs": [],
   "source": []
  }
 ],
 "metadata": {
  "kernelspec": {
   "display_name": "Python 3 (ipykernel)",
   "language": "python",
   "name": "python3"
  },
  "language_info": {
   "codemirror_mode": {
    "name": "ipython",
    "version": 3
   },
   "file_extension": ".py",
   "mimetype": "text/x-python",
   "name": "python",
   "nbconvert_exporter": "python",
   "pygments_lexer": "ipython3",
   "version": "3.9.7"
  }
 },
 "nbformat": 4,
 "nbformat_minor": 5
}
