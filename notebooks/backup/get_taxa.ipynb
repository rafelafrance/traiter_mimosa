{
 "cells": [
  {
   "cell_type": "code",
   "execution_count": 1,
   "id": "ebaafb86",
   "metadata": {
    "ExecuteTime": {
     "end_time": "2022-03-20T20:57:59.679587Z",
     "start_time": "2022-03-20T20:57:59.677286Z"
    }
   },
   "outputs": [],
   "source": [
    "import sys\n",
    "\n",
    "sys.path.append('..')"
   ]
  },
  {
   "cell_type": "code",
   "execution_count": 2,
   "id": "85952eff",
   "metadata": {
    "ExecuteTime": {
     "end_time": "2022-03-20T20:58:00.069690Z",
     "start_time": "2022-03-20T20:57:59.680865Z"
    }
   },
   "outputs": [],
   "source": [
    "import csv\n",
    "import string\n",
    "from pathlib import Path\n",
    "\n",
    "import pandas as pd\n",
    "import regex as re\n",
    "from tqdm import tqdm"
   ]
  },
  {
   "cell_type": "code",
   "execution_count": 3,
   "id": "3d3045ad",
   "metadata": {
    "ExecuteTime": {
     "end_time": "2022-03-20T20:58:00.074181Z",
     "start_time": "2022-03-20T20:58:00.071672Z"
    }
   },
   "outputs": [],
   "source": [
    "DATA = Path('..') / '..' / 'data' / 'species'\n",
    "VOCAB = Path('..') / '..' / 'mimosa' / 'vocabulary'\n",
    "\n",
    "TEXT = DATA / 'Barneby_1991_Sensitivae_Censitae_sci_names.txt'\n",
    "PDF = DATA / 'Barneby_1991_Sensitivae_Censitae_sci_names.pdf'\n",
    "CSV = VOCAB / 'taxa.csv'"
   ]
  },
  {
   "cell_type": "code",
   "execution_count": 4,
   "id": "c1a01d42",
   "metadata": {
    "ExecuteTime": {
     "end_time": "2022-03-20T20:58:00.094234Z",
     "start_time": "2022-03-20T20:58:00.075298Z"
    }
   },
   "outputs": [],
   "source": [
    "# !pdftotext $PDF"
   ]
  },
  {
   "cell_type": "markdown",
   "id": "33613b8e",
   "metadata": {},
   "source": [
    "Manually remove headers and footers."
   ]
  },
  {
   "cell_type": "markdown",
   "id": "c4d761fd",
   "metadata": {},
   "source": [
    "Join lines so that one taxon reference is on one line. Joining lines is easy because all references end in line numbers."
   ]
  },
  {
   "cell_type": "code",
   "execution_count": 5,
   "id": "086c3243",
   "metadata": {
    "ExecuteTime": {
     "end_time": "2022-03-20T20:58:00.100945Z",
     "start_time": "2022-03-20T20:58:00.095547Z"
    }
   },
   "outputs": [],
   "source": [
    "TAXA = {\n",
    "    'genus': set(),\n",
    "    'section': set(),\n",
    "    'series': set(),\n",
    "    'subseries': set(),\n",
    "    'species': set(),\n",
    "    'subspecies': set(),\n",
    "    'variant': set(),\n",
    "}"
   ]
  },
  {
   "cell_type": "code",
   "execution_count": 6,
   "id": "4c8f1fb7",
   "metadata": {
    "ExecuteTime": {
     "end_time": "2022-03-20T20:58:00.109887Z",
     "start_time": "2022-03-20T20:58:00.101985Z"
    }
   },
   "outputs": [],
   "source": [
    "with open(CSV) as csv_file:\n",
    "    reader = csv.DictReader(csv_file)\n",
    "    for row in reader:\n",
    "        TAXA[row['label']].add(row['pattern'])"
   ]
  },
  {
   "cell_type": "code",
   "execution_count": 7,
   "id": "44f854ae",
   "metadata": {
    "ExecuteTime": {
     "end_time": "2022-03-20T20:58:00.117457Z",
     "start_time": "2022-03-20T20:58:00.110898Z"
    }
   },
   "outputs": [],
   "source": [
    "LINES = []\n",
    "with open(TEXT) as in_file:\n",
    "    for ln in in_file.readlines():\n",
    "        parts = ln.split('=')\n",
    "        LINES += [p.strip() for p in parts]"
   ]
  },
  {
   "cell_type": "code",
   "execution_count": 8,
   "id": "043a26d1",
   "metadata": {
    "ExecuteTime": {
     "end_time": "2022-03-20T20:58:00.124928Z",
     "start_time": "2022-03-20T20:58:00.118670Z"
    }
   },
   "outputs": [
    {
     "name": "stdout",
     "output_type": "stream",
     "text": [
      "genus      2\n",
      "section    0\n",
      "series     0\n",
      "subseries  0\n",
      "species    1058\n",
      "subspecies 0\n",
      "variant    0\n"
     ]
    }
   ],
   "source": [
    "for level, names in TAXA.items():\n",
    "    print(f'{level:<10} {len(names)}')"
   ]
  },
  {
   "cell_type": "code",
   "execution_count": 9,
   "id": "4f78e3cf",
   "metadata": {
    "ExecuteTime": {
     "end_time": "2022-03-20T20:58:00.133904Z",
     "start_time": "2022-03-20T20:58:00.126555Z"
    }
   },
   "outputs": [],
   "source": [
    "def labeled_taxa(label):\n",
    "    label = re.escape(label)\n",
    "    taxa = set()\n",
    "    for ln in LINES:\n",
    "        for word in re.findall(fr' {label} \\s+ ( [\\w-]+ )', ln, flags=re.X):\n",
    "            if len(word) > 1:\n",
    "                taxa.add(word)\n",
    "    return taxa"
   ]
  },
  {
   "cell_type": "code",
   "execution_count": 10,
   "id": "92e59546",
   "metadata": {
    "ExecuteTime": {
     "end_time": "2022-03-20T20:58:00.176845Z",
     "start_time": "2022-03-20T20:58:00.135236Z"
    }
   },
   "outputs": [],
   "source": [
    "TAXA['section']    |= labeled_taxa('sect.')\n",
    "TAXA['series']     |= labeled_taxa('ser.')\n",
    "TAXA['subseries']  |= labeled_taxa('subser.')\n",
    "TAXA['subspecies'] |= labeled_taxa('subsp.')\n",
    "TAXA['variant']    |= labeled_taxa('var.')"
   ]
  },
  {
   "cell_type": "code",
   "execution_count": 11,
   "id": "d290e475",
   "metadata": {
    "ExecuteTime": {
     "end_time": "2022-03-20T20:58:00.181285Z",
     "start_time": "2022-03-20T20:58:00.178143Z"
    }
   },
   "outputs": [
    {
     "name": "stdout",
     "output_type": "stream",
     "text": [
      "genus      2\n",
      "section    11\n",
      "series     91\n",
      "subseries  37\n",
      "species    1058\n",
      "subspecies 32\n",
      "variant    398\n"
     ]
    }
   ],
   "source": [
    "for level, names in TAXA.items():\n",
    "    print(f'{level:<10} {len(names)}')"
   ]
  },
  {
   "cell_type": "code",
   "execution_count": 12,
   "id": "89f1db93",
   "metadata": {
    "ExecuteTime": {
     "end_time": "2022-03-20T20:58:00.194459Z",
     "start_time": "2022-03-20T20:58:00.183601Z"
    }
   },
   "outputs": [
    {
     "data": {
      "text/plain": [
       "{'Ameria',\n",
       " 'Batocaulon',\n",
       " 'Calothamnos',\n",
       " 'Eu-mimosa',\n",
       " 'Eumimosa',\n",
       " 'Habbasia',\n",
       " 'Mimadenia',\n",
       " 'Mimosa',\n",
       " 'Rhodostachya',\n",
       " 'Stachyomima',\n",
       " 'Vulgares'}"
      ]
     },
     "execution_count": 12,
     "metadata": {},
     "output_type": "execute_result"
    }
   ],
   "source": [
    "TAXA['section']"
   ]
  },
  {
   "cell_type": "code",
   "execution_count": 13,
   "id": "06bd83c9",
   "metadata": {
    "ExecuteTime": {
     "end_time": "2022-03-20T20:58:00.200726Z",
     "start_time": "2022-03-20T20:58:00.195938Z"
    }
   },
   "outputs": [],
   "source": [
    "def has_punct(word):\n",
    "    return any(c in string.punctuation for c in word)"
   ]
  },
  {
   "cell_type": "code",
   "execution_count": 14,
   "id": "682069bb",
   "metadata": {
    "ExecuteTime": {
     "end_time": "2022-03-20T20:58:00.207379Z",
     "start_time": "2022-03-20T20:58:00.201929Z"
    }
   },
   "outputs": [],
   "source": [
    "def get_species(words):\n",
    "    if has_punct(words[0]):\n",
    "        return '', ''\n",
    "\n",
    "    species = words[0] if words[0].islower() else ''\n",
    "\n",
    "    if species and words[1].islower() and not has_punct(words[1]):\n",
    "        subsp = words[1]\n",
    "    else:\n",
    "        subsp = ''\n",
    "\n",
    "    return species, subsp"
   ]
  },
  {
   "cell_type": "code",
   "execution_count": 15,
   "id": "fcaa93c7",
   "metadata": {
    "ExecuteTime": {
     "end_time": "2022-03-20T20:58:00.225724Z",
     "start_time": "2022-03-20T20:58:00.208547Z"
    }
   },
   "outputs": [],
   "source": [
    "for i, ln in enumerate(LINES):\n",
    "    taxon = ln.split() + ['', '', '']\n",
    "\n",
    "    genus, species, subsp = '', '', ''\n",
    "\n",
    "    if has_punct(taxon[0]) and taxon[0] != 'M.':\n",
    "        pass\n",
    "\n",
    "    elif taxon[0] == 'M.' or taxon[0].istitle():\n",
    "        genus = taxon[0] if taxon[0] != 'M.' else ''\n",
    "        species, subsp = get_species(taxon[1:])\n",
    "\n",
    "    elif taxon[0].islower():\n",
    "        species, subsp = get_species(taxon)\n",
    "\n",
    "    if len(genus) > 2:\n",
    "        TAXA['genus'].add(genus)\n",
    "    if len(species) > 2:\n",
    "        TAXA['species'].add(species)\n",
    "    if len(subsp) > 2:\n",
    "        TAXA['subspecies'].add(subsp)"
   ]
  },
  {
   "cell_type": "code",
   "execution_count": 16,
   "id": "14eaca1e",
   "metadata": {
    "ExecuteTime": {
     "end_time": "2022-03-20T20:58:00.232969Z",
     "start_time": "2022-03-20T20:58:00.226938Z"
    }
   },
   "outputs": [],
   "source": [
    "levels = list(TAXA.keys())\n",
    "\n",
    "while levels:\n",
    "    hi = levels.pop(0)\n",
    "    for lo in levels:\n",
    "        TAXA[lo] -= TAXA[hi]"
   ]
  },
  {
   "cell_type": "code",
   "execution_count": 17,
   "id": "87cddfca",
   "metadata": {
    "ExecuteTime": {
     "end_time": "2022-03-20T20:58:00.240059Z",
     "start_time": "2022-03-20T20:58:00.234387Z"
    }
   },
   "outputs": [
    {
     "name": "stdout",
     "output_type": "stream",
     "text": [
      "genus      87\n",
      "section    10\n",
      "series     82\n",
      "subseries  0\n",
      "species    1249\n",
      "subspecies 30\n",
      "variant    143\n"
     ]
    }
   ],
   "source": [
    "for level, names in TAXA.items():\n",
    "    print(f'{level:<10} {len(names)}')"
   ]
  },
  {
   "cell_type": "code",
   "execution_count": 23,
   "id": "40fbb804",
   "metadata": {
    "ExecuteTime": {
     "end_time": "2022-03-20T21:01:32.580557Z",
     "start_time": "2022-03-20T21:01:32.575710Z"
    }
   },
   "outputs": [
    {
     "data": {
      "text/plain": [
       "{'Acanthocarpae',\n",
       " 'Acantholobae',\n",
       " 'Adversae',\n",
       " 'Affines',\n",
       " 'Andinae',\n",
       " 'Antrorsae',\n",
       " 'Aphyllae',\n",
       " 'Asperatae',\n",
       " 'Auriculatae',\n",
       " 'Axillares',\n",
       " 'Bahamenses',\n",
       " 'Bipennatulae',\n",
       " 'Bipinnatae',\n",
       " 'BoUvianae',\n",
       " 'Brevipedes',\n",
       " 'Caesalpiniifoliae',\n",
       " 'Campicolae',\n",
       " 'Ceratoniae',\n",
       " 'Cordistipulae',\n",
       " 'Dicerasteae',\n",
       " 'Diffusae',\n",
       " 'Discobolae',\n",
       " 'Dolentes',\n",
       " 'Dryandroideae',\n",
       " 'Dutranae',\n",
       " 'Echinocaulae',\n",
       " 'Ephedroideae',\n",
       " 'Farinosae',\n",
       " 'Filipedes',\n",
       " 'Glanduliferae',\n",
       " 'Glandulosae',\n",
       " 'Hirsutae',\n",
       " 'Lactifluae',\n",
       " 'Lanatae',\n",
       " 'Leiocarpae',\n",
       " 'Lepidotae',\n",
       " 'Leptopodae',\n",
       " 'Leptostachyae',\n",
       " 'Leucaenoideae',\n",
       " 'Lundianae',\n",
       " 'Macrocalycinae',\n",
       " 'Meticulosae',\n",
       " 'Microcarpae',\n",
       " 'Microcephalae',\n",
       " 'Modestae',\n",
       " 'Morongianae',\n",
       " 'Myriadeniae',\n",
       " 'Myriophyllae',\n",
       " 'Neptunioideae',\n",
       " 'Nothacaciae',\n",
       " 'Obstrigosae',\n",
       " 'Pachycarpae',\n",
       " 'Paucifoliatae',\n",
       " 'Pectinatae',\n",
       " 'Pedunculosae',\n",
       " 'Piresianae',\n",
       " 'Plurijugae',\n",
       " 'Pogocephalae',\n",
       " 'Polycarpae',\n",
       " 'Polycephalae',\n",
       " 'Pseudocymosae',\n",
       " 'Pudicae',\n",
       " 'Quadrivalves',\n",
       " 'Ramentaceae',\n",
       " 'Ramosissimae',\n",
       " 'Reptantes',\n",
       " 'Revolutae',\n",
       " 'Rojasianae',\n",
       " 'Rondonianae',\n",
       " 'Rubicaules',\n",
       " 'Sensitivae',\n",
       " 'Serrae',\n",
       " 'Setosae',\n",
       " 'Simplicissimae',\n",
       " 'Sparsae',\n",
       " 'Spiciflorae',\n",
       " 'Stipellares',\n",
       " 'Teledactylae',\n",
       " 'Thomistae',\n",
       " 'Tomentosae',\n",
       " 'Trichocephalae',\n",
       " 'Widgrenianae'}"
      ]
     },
     "execution_count": 23,
     "metadata": {},
     "output_type": "execute_result"
    }
   ],
   "source": [
    "TAXA['series']"
   ]
  },
  {
   "cell_type": "code",
   "execution_count": 19,
   "id": "9d4536ed",
   "metadata": {
    "ExecuteTime": {
     "end_time": "2022-03-20T20:58:00.254405Z",
     "start_time": "2022-03-20T20:58:00.249359Z"
    }
   },
   "outputs": [],
   "source": [
    "data = {'label': [], 'pattern': []}\n",
    "for level, taxa in TAXA.items():\n",
    "    for taxon in sorted(taxa):\n",
    "        data['label'].append(level)\n",
    "        data['pattern'].append(taxon)"
   ]
  },
  {
   "cell_type": "code",
   "execution_count": 20,
   "id": "64f2c640",
   "metadata": {
    "ExecuteTime": {
     "end_time": "2022-03-20T20:58:00.260947Z",
     "start_time": "2022-03-20T20:58:00.256100Z"
    }
   },
   "outputs": [],
   "source": [
    "levels = \"\"\"\n",
    "    genus\n",
    "    section\n",
    "    series\n",
    "    subseries\n",
    "    species\n",
    "    subspecies\n",
    "    variant\n",
    "    sect.\n",
    "    ser.\n",
    "    subser.\n",
    "    subsp.\n",
    "    var.\n",
    "    sect\n",
    "    ser\n",
    "    subser\n",
    "    subsp\n",
    "    var\n",
    "\"\"\".split()\n",
    "data['pattern'] += levels\n",
    "data['label'] += ['level'] * len(levels)"
   ]
  },
  {
   "cell_type": "code",
   "execution_count": 21,
   "id": "25e233ce",
   "metadata": {
    "ExecuteTime": {
     "end_time": "2022-03-20T20:58:00.275306Z",
     "start_time": "2022-03-20T20:58:00.262440Z"
    }
   },
   "outputs": [],
   "source": [
    "df = pd.DataFrame(data=data)\n",
    "df.to_csv(CSV, index=False)"
   ]
  },
  {
   "cell_type": "code",
   "execution_count": null,
   "id": "bbe339cc",
   "metadata": {},
   "outputs": [],
   "source": []
  }
 ],
 "metadata": {
  "kernelspec": {
   "display_name": "Python 3 (ipykernel)",
   "language": "python",
   "name": "python3"
  },
  "language_info": {
   "codemirror_mode": {
    "name": "ipython",
    "version": 3
   },
   "file_extension": ".py",
   "mimetype": "text/x-python",
   "name": "python",
   "nbconvert_exporter": "python",
   "pygments_lexer": "ipython3",
   "version": "3.9.7"
  }
 },
 "nbformat": 4,
 "nbformat_minor": 5
}
